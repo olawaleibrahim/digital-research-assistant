{
 "cells": [
  {
   "cell_type": "code",
   "execution_count": 1,
   "metadata": {},
   "outputs": [],
   "source": [
    "import concurrent.futures\n",
    "import json\n",
    "import random\n",
    "import re\n",
    "from concurrent.futures import ThreadPoolExecutor\n",
    "from typing import List, Tuple\n",
    "from datasets import Dataset\n",
    "from openai import OpenAI\n",
    "from pydantic import BaseModel, Field\n",
    "from tqdm.auto import tqdm"
   ]
  },
  {
   "cell_type": "code",
   "execution_count": 2,
   "metadata": {},
   "outputs": [],
   "source": [
    "clean_doc_path = \"/home/olawale/Desktop/PROJECTS/llms/digital-research-assistant/output/cleaned_documents.json\""
   ]
  },
  {
   "cell_type": "code",
   "execution_count": 3,
   "metadata": {},
   "outputs": [],
   "source": [
    "def load_articles_from_json(file_path: str) -> Dataset:\n",
    "    with open(file_path, \"r\") as file:\n",
    "        data = json.load(file)\n",
    "    return Dataset.from_dict(\n",
    "        {\n",
    "        \"id\": [item[\"id\"] for item in data[\"artifact_data\"]],\n",
    "        \"content\": [item[\"content\"] for item in data[\"artifact_data\"]],\n",
    "        \"filetype\": [item[\"filetype\"] for item in data[\"artifact_data\"]],\n",
    "        \"author_id\": [item[\"author_id\"] for item in data[\"artifact_data\"]],\n",
    "        \"author_full_name\": [item[\"author_full_name\"] for item in data[\"artifact_data\"]],\n",
    "        \"filepath\": [item[\"filepath\"] for item in data[\"artifact_data\"]],\n",
    "        }\n",
    "    )"
   ]
  },
  {
   "cell_type": "code",
   "execution_count": 4,
   "metadata": {},
   "outputs": [],
   "source": [
    "def clean_text(text):\n",
    "    text = re.sub(r\"[^\\w\\s.,!?']\", \" \", text)\n",
    "    text = re.sub(r\"\\s+\", \" \", text)\n",
    "    return text.strip()"
   ]
  },
  {
   "cell_type": "code",
   "execution_count": 5,
   "metadata": {},
   "outputs": [],
   "source": [
    "def extract_substrings(dataset: Dataset, min_length: int = 1000,\n",
    "    max_length: int = 2000) -> List[str]:\n",
    "    extracts = []\n",
    "    sentence_pattern = r\"(?<!\\w\\.\\w.)(?<![A-Z][a-z]\\.)(?<=\\.|\\?|\\!)\\s\"\n",
    "    for article in dataset[\"content\"]:\n",
    "        cleaned_article = clean_text(article)\n",
    "        sentences = re.split(sentence_pattern, cleaned_article)\n",
    "        current_chunk = \"\"\n",
    "        for sentence in sentences:\n",
    "            sentence = sentence.strip()\n",
    "            if not sentence:\n",
    "                continue\n",
    "            if len(current_chunk) + len(sentence) <= max_length:\n",
    "                current_chunk += sentence + \" \"\n",
    "            else:\n",
    "                if len(current_chunk) >= min_length:\n",
    "                    extracts.append(current_chunk.strip())\n",
    "                current_chunk = sentence + \" \"\n",
    "        if len(current_chunk) >= min_length:\n",
    "            extracts.append(current_chunk.strip())\n",
    "    return extracts"
   ]
  },
  {
   "cell_type": "code",
   "execution_count": 6,
   "metadata": {},
   "outputs": [],
   "source": [
    "class InstructionAnswerSet:\n",
    "    def __init__(self, pairs: List[Tuple[str, str]]):\n",
    "        self.pairs = pairs\n",
    "\n",
    "    @classmethod\n",
    "    def from_json(cls, json_str: str) -> 'InstructionAnswerSet':\n",
    "        data = json.loads(json_str)\n",
    "        pairs = [(pair['instruction'], pair['answer']) for pair in data['instruction_answer_pairs']]\n",
    "        return cls(pairs)\n",
    "    \n",
    "    def __iter__(self):\n",
    "        return iter(self.pairs)"
   ]
  },
  {
   "cell_type": "code",
   "execution_count": 7,
   "metadata": {},
   "outputs": [],
   "source": [
    "def generate_instruction_answer_pairs(\n",
    "    extract: str, client: OpenAI\n",
    "    ) -> List[Tuple[str, str]]:\n",
    "    prompt = f\"\"\"Based on the following extract, generate five\n",
    "    instruction-answer pairs. Each instruction \\\n",
    "    must ask to write about a specific topic contained in the context.\n",
    "    each answer \\\n",
    "    must provide a relevant paragraph based on the information found in\n",
    "    the \\\n",
    "    context. Only use concepts from the context to generate the\n",
    "    instructions. \\\n",
    "    Instructions must never explicitly mention a context, a system, a\n",
    "    course, or an extract. \\\n",
    "    Instructions must be self-contained and general. \\\n",
    "    Answers must imitate the writing style of the context. \\\n",
    "    Example instruction: Explain the concept of an LLM Twin. \\\n",
    "    Example answer: An LLM Twin is essentially an AI character that\n",
    "    mimics your writing style, personality, and voice. \\\n",
    "    It's designed to write just like you by incorporating these elements\n",
    "    into a language model. \\\n",
    "    The idea is to create a digital replica of your writing habits using\n",
    "    advanced AI techniques. \\\n",
    "    Provide your response in JSON format with the following structure:\n",
    "    {{\n",
    "    \"instruction_answer_pairs\": [\n",
    "    {{\"instruction\": \"...\", \"answer\": \"...\"}},\n",
    "    ...\n",
    "    ]\n",
    "    }}\n",
    "    Extract:\n",
    "    {extract}\n",
    "    \"\"\"\n",
    "\n",
    "    completion = client.chat.completions.create(\n",
    "        model=\"gpt-4o-mini\",\n",
    "        messages=[\n",
    "                {\n",
    "                    \"role\": \"system\", \"content\": \"You are a helpfulassistant who \\\n",
    "                        generates instruction-answer pairs based on the given context. \\\n",
    "                            Provide your response in JSON format.\",\n",
    "                },\n",
    "                {\"role\": \"user\", \"content\": prompt},\n",
    "            ],\n",
    "            response_format={\"type\": \"json_object\"},\n",
    "            max_tokens=1200,\n",
    "            temperature=0.7,\n",
    "            )\n",
    "    \n",
    "    result = InstructionAnswerSet.from_json(completion.choices[0].\n",
    "    message.content)\n",
    "    \n",
    "    return result.pairs"
   ]
  },
  {
   "cell_type": "code",
   "execution_count": 8,
   "metadata": {},
   "outputs": [],
   "source": [
    "def create_instruction_dataset(dataset: Dataset, client: OpenAI, num_workers: int = 4) -> Dataset:\n",
    "    extracts = extract_substrings(dataset)\n",
    "    instruction_answer_pairs = []\n",
    "    with concurrent.futures.ThreadPoolExecutor(max_workers=num_workers) as executor:\n",
    "        futures = [executor.submit(generate_instruction_answer_pairs, extract, client) for extract in extracts]\n",
    "        for future in tqdm(concurrent.futures.as_completed(futures),total=len(futures)):\n",
    "            instruction_answer_pairs.extend(future.result())\n",
    "            instructions, answers = zip(*instruction_answer_pairs)\n",
    "    return Dataset.from_dict(\n",
    "    {\"instruction\": list(instructions), \"output\": list(answers)}\n",
    "    )"
   ]
  },
  {
   "cell_type": "code",
   "execution_count": 9,
   "metadata": {},
   "outputs": [],
   "source": [
    "def main(dataset_id: str) -> Dataset:\n",
    "    client = OpenAI()\n",
    "    raw_dataset = load_articles_from_json(clean_doc_path)\n",
    "    print(\"Raw dataset:\")\n",
    "\n",
    "    instruction_dataset = create_instruction_dataset(raw_dataset, client)\n",
    "    print(\"Instruction dataset:\")\n",
    "    filtered_dataset = instruction_dataset.train_test_split(test_size=0.1)\n",
    "    filtered_dataset.push_to_hub(f\"olawaleibrahim/{dataset_id}\", private=True)\n",
    "    return filtered_dataset, instruction_dataset.to_pandas(), raw_dataset"
   ]
  },
  {
   "cell_type": "code",
   "execution_count": 10,
   "metadata": {},
   "outputs": [],
   "source": [
    "dataset_id = \"professionaldocuments\"\n",
    "# dataset_filtered.push_to_hub(f\"olawaleibrahim/{dataset_id}\", private=True)"
   ]
  },
  {
   "cell_type": "code",
   "execution_count": 9,
   "metadata": {},
   "outputs": [],
   "source": [
    "# dataset_filtered.push_to_hub(f\"olawaleibrahim/1{dataset_id}\")"
   ]
  },
  {
   "cell_type": "code",
   "execution_count": 10,
   "metadata": {},
   "outputs": [],
   "source": [
    "# dataset_filtered, df, raw_dataset = main(\"professionaldocuments\")"
   ]
  },
  {
   "cell_type": "code",
   "execution_count": 17,
   "metadata": {},
   "outputs": [
    {
     "data": {
      "text/plain": [
       "DatasetDict({\n",
       "    train: Dataset({\n",
       "        features: ['instruction', 'output'],\n",
       "        num_rows: 1386\n",
       "    })\n",
       "    test: Dataset({\n",
       "        features: ['instruction', 'output'],\n",
       "        num_rows: 154\n",
       "    })\n",
       "})"
      ]
     },
     "execution_count": 17,
     "metadata": {},
     "output_type": "execute_result"
    }
   ],
   "source": [
    "dataset_filtered"
   ]
  },
  {
   "cell_type": "code",
   "execution_count": 15,
   "metadata": {},
   "outputs": [],
   "source": [
    "df.to_csv(\"/home/olawale/Desktop/PROJECTS/llms/digital-research-assistant/output/clean_documents_hf.csv\", index=False)"
   ]
  },
  {
   "cell_type": "markdown",
   "metadata": {},
   "source": [
    "### Preference Dataset"
   ]
  },
  {
   "cell_type": "code",
   "execution_count": 11,
   "metadata": {},
   "outputs": [],
   "source": [
    "import concurrent.futures\n",
    "import json\n",
    "import re\n",
    "from typing import List, Tuple\n",
    "from datasets import Dataset\n",
    "from openai import OpenAI\n",
    "from tqdm.auto import tqdm"
   ]
  },
  {
   "cell_type": "code",
   "execution_count": 12,
   "metadata": {},
   "outputs": [],
   "source": [
    "class PreferenceSet:\n",
    "    def __init__(self, triples: List[Tuple[str, str, str]]):\n",
    "        self.triples = triples\n",
    "\n",
    "    @classmethod\n",
    "    def from_json(cls, json_str: str) -> 'PreferenceSet':\n",
    "        data = json.loads(json_str)\n",
    "        triples = [(triple['instruction'], triple['generated_answer'], triple['extracted_answer']) for triple in data['preference_triples']]\n",
    "        return cls(triples)\n",
    "    \n",
    "    def __iter__(self):\n",
    "        return iter(self.triples)"
   ]
  },
  {
   "cell_type": "code",
   "execution_count": 49,
   "metadata": {},
   "outputs": [],
   "source": [
    "def load_articles_from_json(file_path: str) -> Dataset:\n",
    "    with open(file_path, \"r\") as file:\n",
    "        data = json.load(file)\n",
    "    return Dataset.from_dict(\n",
    "        {\n",
    "        \"id\": [item[\"id\"] for item in data[\"artifact_data\"][:]],\n",
    "        \"content\": [item[\"content\"] for item in data[\"artifact_data\"][:]],\n",
    "        \"filetype\": [item[\"filetype\"] for item in data[\"artifact_data\"][:]],\n",
    "        \"author_id\": [item[\"author_id\"] for item in data[\"artifact_data\"][:]],\n",
    "        \"author_full_name\": [item[\"author_full_name\"] for item in data[\"artifact_data\"][:]],\n",
    "        \"filepath\": [item[\"filepath\"] for item in data[\"artifact_data\"][:]],\n",
    "        }\n",
    "    )"
   ]
  },
  {
   "cell_type": "code",
   "execution_count": 50,
   "metadata": {},
   "outputs": [],
   "source": [
    "def generate_preference_triples(extract: str, client: OpenAI) -> List[Tuple[str, str, str]]:\n",
    "    prompt = f\"\"\"Based on the following extract, generate five\n",
    "    instruction-answer triples. Each triple should consist of:\n",
    "    1. An instruction asking about a specific topic in the context.\n",
    "    2. A generated answer that attempts to answer the instruction based\n",
    "    on the context.\n",
    "    3. An extracted answer that is a relevant excerpt directly from the\n",
    "    given context.\n",
    "    Instructions must be self-contained and general, without explicitly\n",
    "    mentioning a context, system, course, or extract.\n",
    "    Important:\n",
    "    - Ensure that the extracted answer is a verbatim copy from the\n",
    "    context, including all punctuation and apostrophes.\n",
    "    - Do not add any ellipsis (...) or [...]\n",
    "    in the extracted answer.\n",
    "    to indicate skipped text\n",
    "    - If the relevant text is not continuous, use two separate sentences\n",
    "    from the context instead of skipping text.\n",
    "    Provide your response in JSON format with the following structure:\n",
    "    {{\n",
    "        \"preference_triples\": [\n",
    "        {{\n",
    "            \"instruction\": \"...\",\n",
    "            \"generated_answer\": \"...\",\n",
    "            \"extracted_answer\": \"...\"\n",
    "        }},\n",
    "        ...\n",
    "    ]\n",
    "}}\n",
    "    Extract:\n",
    "    {extract}\n",
    "\"\"\"\n",
    "    \n",
    "    completion = client.chat.completions.create(\n",
    "        model=\"gpt-4o-mini\",\n",
    "        messages=[\n",
    "            {\n",
    "                \"role\": \"system\",\n",
    "                \"content\": \"\"\"You are a helpful assistant who generates instruction-answer triples based on the given context. \\\n",
    "                    Each triple should include an instruction, a generated answer, and an extracted answer from the context. \\ \n",
    "                    Provide your response in JSON format.\"\"\",\n",
    "            },\n",
    "            {\"role\": \"user\", \"content\": prompt},\n",
    "        ],\n",
    "        response_format={\"type\": \"json_object\"},\n",
    "        max_tokens=2000,\n",
    "        temperature=0.7,\n",
    "        )\n",
    "    result = PreferenceSet.from_json(completion.choices[0].message.content)\n",
    "    # print(result.triples, \"333333333333333333333\")\n",
    "    return result.triples"
   ]
  },
  {
   "cell_type": "code",
   "execution_count": 51,
   "metadata": {},
   "outputs": [],
   "source": [
    "def filter_short_answers(dataset: Dataset, min_length: int = 100) -> Dataset:\n",
    "    def is_long_enough(example):\n",
    "        return len(example['chosen']) >= min_length\n",
    "    return dataset.filter(is_long_enough)\n",
    "\n",
    "def filter_answer_format(dataset: Dataset) -> Dataset:\n",
    "    def is_valid_format(example):\n",
    "        chosen = example['chosen']\n",
    "        return (len(chosen) > 0 and chosen[0].isupper() and chosen[-1] in ('.', '!', '?'))\n",
    "    return dataset.filter(is_valid_format)"
   ]
  },
  {
   "cell_type": "code",
   "execution_count": 52,
   "metadata": {},
   "outputs": [],
   "source": [
    "def create_preference_dataset(dataset: Dataset, client: OpenAI, num_workers: int = 4) -> Dataset:\n",
    "    extracts = extract_substrings(dataset)\n",
    "    preference_triples = []\n",
    "    with concurrent.futures.ThreadPoolExecutor(max_workers=num_workers) as executor:\n",
    "        futures = [executor.submit(generate_preference_triples, extract, client) for extract in extracts]\n",
    "        for future in tqdm(concurrent.futures.as_completed(futures), total=len(futures)):\n",
    "            preference_triples.extend(future.result())\n",
    "            instructions, generated_answers, extracted_answers = zip(*preference_triples)\n",
    "    \n",
    "    print(len(list(instructions)), \"444444444444444\")\n",
    "    return Dataset.from_dict(\n",
    "        {\n",
    "            \"prompt\": list(instructions),\n",
    "            \"rejected\": list(generated_answers),\n",
    "            \"chosen\": list(extracted_answers)\n",
    "        }\n",
    "    )"
   ]
  },
  {
   "cell_type": "code",
   "execution_count": 54,
   "metadata": {},
   "outputs": [],
   "source": [
    "def main(dataset_id: str) -> Dataset:\n",
    "    client = OpenAI()\n",
    "    raw_dataset = load_articles_from_json(clean_doc_path)\n",
    "    print(\"Raw dataset:\")\n",
    "    # print(raw_dataset.to_pandas())\n",
    "    dataset = create_preference_dataset(raw_dataset, client)\n",
    "    print(\"Preference dataset:\")\n",
    "    # print(dataset.to_pandas())\n",
    "    dataset = filter_short_answers(dataset)\n",
    "    dataset = filter_answer_format(dataset)\n",
    "    dataset.push_to_hub(dataset_id)\n",
    "    return dataset, raw_dataset, dataset.to_pandas()"
   ]
  },
  {
   "cell_type": "code",
   "execution_count": 55,
   "metadata": {},
   "outputs": [
    {
     "name": "stdout",
     "output_type": "stream",
     "text": [
      "Raw dataset:\n"
     ]
    },
    {
     "data": {
      "application/vnd.jupyter.widget-view+json": {
       "model_id": "31df7e848a5146619a6ea593e78bda29",
       "version_major": 2,
       "version_minor": 0
      },
      "text/plain": [
       "  0%|          | 0/308 [00:00<?, ?it/s]"
      ]
     },
     "metadata": {},
     "output_type": "display_data"
    },
    {
     "name": "stdout",
     "output_type": "stream",
     "text": [
      "1540 444444444444444\n",
      "Preference dataset:\n"
     ]
    },
    {
     "data": {
      "application/vnd.jupyter.widget-view+json": {
       "model_id": "9d5b55362d3f4d98b2a5b670f2f0f91c",
       "version_major": 2,
       "version_minor": 0
      },
      "text/plain": [
       "Filter:   0%|          | 0/1540 [00:00<?, ? examples/s]"
      ]
     },
     "metadata": {},
     "output_type": "display_data"
    },
    {
     "data": {
      "application/vnd.jupyter.widget-view+json": {
       "model_id": "4bedb7f81e8e44b2a09e4d52518cb49e",
       "version_major": 2,
       "version_minor": 0
      },
      "text/plain": [
       "Filter:   0%|          | 0/1125 [00:00<?, ? examples/s]"
      ]
     },
     "metadata": {},
     "output_type": "display_data"
    },
    {
     "data": {
      "application/vnd.jupyter.widget-view+json": {
       "model_id": "4f1e86a4c5f84d548753e1de6ae6d5ef",
       "version_major": 2,
       "version_minor": 0
      },
      "text/plain": [
       "Uploading the dataset shards:   0%|          | 0/1 [00:00<?, ?it/s]"
      ]
     },
     "metadata": {},
     "output_type": "display_data"
    },
    {
     "data": {
      "application/vnd.jupyter.widget-view+json": {
       "model_id": "3d80fbf1b8fb4933a2cecefa63e54a07",
       "version_major": 2,
       "version_minor": 0
      },
      "text/plain": [
       "Creating parquet from Arrow format:   0%|          | 0/2 [00:00<?, ?ba/s]"
      ]
     },
     "metadata": {},
     "output_type": "display_data"
    }
   ],
   "source": [
    "dataset_prepared, raw, df = main(\"professionaldocuments-dpo\")"
   ]
  },
  {
   "cell_type": "code",
   "execution_count": 57,
   "metadata": {},
   "outputs": [
    {
     "data": {
      "application/vnd.jupyter.widget-view+json": {
       "model_id": "759bff6245b444aaaa34fb0e494305e8",
       "version_major": 2,
       "version_minor": 0
      },
      "text/plain": [
       "Uploading the dataset shards:   0%|          | 0/1 [00:00<?, ?it/s]"
      ]
     },
     "metadata": {},
     "output_type": "display_data"
    },
    {
     "data": {
      "application/vnd.jupyter.widget-view+json": {
       "model_id": "144f959632994de3b0a83635cbe71c7b",
       "version_major": 2,
       "version_minor": 0
      },
      "text/plain": [
       "Creating parquet from Arrow format:   0%|          | 0/2 [00:00<?, ?ba/s]"
      ]
     },
     "metadata": {},
     "output_type": "display_data"
    },
    {
     "data": {
      "text/plain": [
       "CommitInfo(commit_url='https://huggingface.co/datasets/olawaleibrahim/1professionaldocuments-dpo/commit/69bbc94bc7501d5aad008250ba6084e267a544e9', commit_message='Upload dataset', commit_description='', oid='69bbc94bc7501d5aad008250ba6084e267a544e9', pr_url=None, repo_url=RepoUrl('https://huggingface.co/datasets/olawaleibrahim/1professionaldocuments-dpo', endpoint='https://huggingface.co', repo_type='dataset', repo_id='olawaleibrahim/1professionaldocuments-dpo'), pr_revision=None, pr_num=None)"
      ]
     },
     "execution_count": 57,
     "metadata": {},
     "output_type": "execute_result"
    }
   ],
   "source": [
    "dataset_id = \"professionaldocuments-dpo\"\n",
    "dataset_prepared.push_to_hub(f\"olawaleibrahim/1{dataset_id}\", private=True)"
   ]
  },
  {
   "cell_type": "code",
   "execution_count": 58,
   "metadata": {},
   "outputs": [],
   "source": [
    "df.to_csv(\"/home/olawale/Desktop/PROJECTS/llms/digital-research-assistant/output/clean_documents_dpo_hf.csv\", index=False)"
   ]
  },
  {
   "cell_type": "code",
   "execution_count": null,
   "metadata": {},
   "outputs": [],
   "source": []
  }
 ],
 "metadata": {
  "kernelspec": {
   "display_name": "llm-venv",
   "language": "python",
   "name": "python3"
  },
  "language_info": {
   "codemirror_mode": {
    "name": "ipython",
    "version": 3
   },
   "file_extension": ".py",
   "mimetype": "text/x-python",
   "name": "python",
   "nbconvert_exporter": "python",
   "pygments_lexer": "ipython3",
   "version": "3.11.11"
  }
 },
 "nbformat": 4,
 "nbformat_minor": 2
}
